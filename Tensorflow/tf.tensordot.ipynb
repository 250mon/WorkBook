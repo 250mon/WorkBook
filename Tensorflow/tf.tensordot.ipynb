{
 "cells": [
  {
   "cell_type": "code",
   "execution_count": 25,
   "id": "7f1634b7",
   "metadata": {},
   "outputs": [],
   "source": [
    "import tensorflow.compat.v1 as tf\n",
    "tf.disable_eager_execution()"
   ]
  },
  {
   "cell_type": "code",
   "execution_count": 26,
   "id": "ec5f9986",
   "metadata": {},
   "outputs": [],
   "source": [
    "sess = tf.Session()"
   ]
  },
  {
   "cell_type": "code",
   "execution_count": 27,
   "id": "c63425cd",
   "metadata": {},
   "outputs": [
    {
     "data": {
      "text/plain": [
       "array([[ 31,  33],\n",
       "       [-31, -33]], dtype=int32)"
      ]
     },
     "execution_count": 27,
     "metadata": {},
     "output_type": "execute_result"
    }
   ],
   "source": [
    "# Both a and b are order 2; (3,2), (2,3)\n",
    "a = tf.constant([[1, 2, 3], \n",
    "                 [-1, -2, -3]])\n",
    "b = tf.constant([[1, 1],\n",
    "                 [0, 1],\n",
    "                 [10, 10]])\n",
    "c = tf.tensordot(a, b, axes=1) # matrix multiplication; equivalent to axes=[[1], [0]]; the first 1 axis of a and the last 1 axis of b\n",
    "result = sess.run(c)\n",
    "result"
   ]
  },
  {
   "cell_type": "code",
   "execution_count": 28,
   "id": "b313ad92",
   "metadata": {},
   "outputs": [
    {
     "data": {
      "text/plain": [
       "array([[[[  1,   1],\n",
       "         [  0,   1],\n",
       "         [ 10,  10]],\n",
       "\n",
       "        [[  2,   2],\n",
       "         [  0,   2],\n",
       "         [ 20,  20]],\n",
       "\n",
       "        [[  3,   3],\n",
       "         [  0,   3],\n",
       "         [ 30,  30]]],\n",
       "\n",
       "\n",
       "       [[[ -1,  -1],\n",
       "         [  0,  -1],\n",
       "         [-10, -10]],\n",
       "\n",
       "        [[ -2,  -2],\n",
       "         [  0,  -2],\n",
       "         [-20, -20]],\n",
       "\n",
       "        [[ -3,  -3],\n",
       "         [  0,  -3],\n",
       "         [-30, -30]]]], dtype=int32)"
      ]
     },
     "execution_count": 28,
     "metadata": {},
     "output_type": "execute_result"
    }
   ],
   "source": [
    "d = tf.tensordot(a, b, axes=0) # outer product\n",
    "sess.run(d)"
   ]
  },
  {
   "cell_type": "code",
   "execution_count": 29,
   "id": "b3c570ff",
   "metadata": {},
   "outputs": [
    {
     "data": {
      "text/plain": [
       "(-38, -38, -17, -10)"
      ]
     },
     "execution_count": 29,
     "metadata": {},
     "output_type": "execute_result"
    }
   ],
   "source": [
    "# Both a and b are order 2; (3,2), (2,3)\n",
    "a = tf.constant([[1, 2, 3], \n",
    "                 [-1, -2, -3]])\n",
    "b = tf.constant([[1, 2],\n",
    "                 [3, 5],\n",
    "                 [7, 11]])\n",
    "d1 = tf.tensordot(a, b, axes=2) # equivalent to axes=[[0,1], [0,1]]\n",
    "d2 = tf.tensordot(a, b, axes=[[0,1], [0,1]]) # (1,2,3)*(1,2,3) + (-1,-2,-3)*(5,7,11)\n",
    "d3 = tf.tensordot(a, b, axes=[[1,0], [0,1]])\n",
    "d4 = tf.tensordot(a, b, axes=[[1,0], [1,0]]) # (1,-1)*(1,3) + (2,-2)*(7,2) + (3,-3)*(5,11)\n",
    "sess.run((d1,d2,d3,d4))"
   ]
  },
  {
   "cell_type": "code",
   "execution_count": 30,
   "id": "502f40ba",
   "metadata": {},
   "outputs": [
    {
     "data": {
      "text/plain": [
       "-38"
      ]
     },
     "execution_count": 30,
     "metadata": {},
     "output_type": "execute_result"
    }
   ],
   "source": [
    "d2 = tf.tensordot(a, b, axes=[[0,1], [0,1]]) \n",
    "sess.run(d2)"
   ]
  },
  {
   "cell_type": "code",
   "execution_count": 31,
   "id": "ec3d2756",
   "metadata": {},
   "outputs": [],
   "source": [
    "a3 = tf.constant([[[1, 1], [2, 2]], [[3, 3], [4, 4]]]) # (i,j,k) = (2,2,2)\n",
    "b3 = tf.constant([[[0, 0],\n",
    "                   [10, 10]],                  \n",
    "                  [[-1, -1],\n",
    "                   [1000, 1000]]]) # (l,m,n) = (2,2,2)"
   ]
  },
  {
   "cell_type": "code",
   "execution_count": 34,
   "id": "077eae88",
   "metadata": {},
   "outputs": [
    {
     "data": {
      "text/plain": [
       "array([[[[   0,   40],\n",
       "         [  -4, 4000]],\n",
       "\n",
       "        [[   0,   40],\n",
       "         [  -4, 4000]]],\n",
       "\n",
       "\n",
       "       [[[   0,   60],\n",
       "         [  -6, 6000]],\n",
       "\n",
       "        [[   0,   60],\n",
       "         [  -6, 6000]]]], dtype=int32)"
      ]
     },
     "execution_count": 34,
     "metadata": {},
     "output_type": "execute_result"
    }
   ],
   "source": [
    "d4 = tf.tensordot(a3, b3, axes=[[0], [2]]) # (j,k,l,m) = (2,2,2,2)\n",
    "sess.run(d4)"
   ]
  },
  {
   "cell_type": "code",
   "execution_count": null,
   "id": "0950b4c6",
   "metadata": {},
   "outputs": [],
   "source": []
  }
 ],
 "metadata": {
  "kernelspec": {
   "display_name": "Python 3",
   "language": "python",
   "name": "python3"
  },
  "language_info": {
   "codemirror_mode": {
    "name": "ipython",
    "version": 3
   },
   "file_extension": ".py",
   "mimetype": "text/x-python",
   "name": "python",
   "nbconvert_exporter": "python",
   "pygments_lexer": "ipython3",
   "version": "3.7.10"
  }
 },
 "nbformat": 4,
 "nbformat_minor": 5
}
