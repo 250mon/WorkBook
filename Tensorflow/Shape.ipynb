{
 "cells": [
  {
   "cell_type": "code",
   "execution_count": 2,
   "id": "334aba86",
   "metadata": {},
   "outputs": [],
   "source": [
    "import tensorflow.compat.v1 as tf\n",
    "tf.disable_eager_execution()"
   ]
  },
  {
   "cell_type": "code",
   "execution_count": 3,
   "id": "3c481355",
   "metadata": {},
   "outputs": [],
   "source": [
    "sess = tf.Session()"
   ]
  },
  {
   "cell_type": "markdown",
   "id": "794f4c2e",
   "metadata": {},
   "source": [
    "## tf.reshape"
   ]
  },
  {
   "cell_type": "code",
   "execution_count": 4,
   "id": "d2725b3d",
   "metadata": {},
   "outputs": [
    {
     "data": {
      "text/plain": [
       "array([[1, 2, 3],\n",
       "       [4, 5, 6],\n",
       "       [7, 8, 9]], dtype=int32)"
      ]
     },
     "execution_count": 4,
     "metadata": {},
     "output_type": "execute_result"
    }
   ],
   "source": [
    "t = tf.constant([1, 2, 3, 4, 5, 6, 7, 8, 9])\n",
    "# tensor 't' has shape [9]\n",
    "\n",
    "result = tf.reshape(t, [3, 3])\n",
    "sess.run(result)"
   ]
  },
  {
   "cell_type": "code",
   "execution_count": 5,
   "id": "905ea9f1",
   "metadata": {},
   "outputs": [
    {
     "data": {
      "text/plain": [
       "array([[1, 1, 2, 2],\n",
       "       [3, 3, 4, 4]], dtype=int32)"
      ]
     },
     "execution_count": 5,
     "metadata": {},
     "output_type": "execute_result"
    }
   ],
   "source": [
    "t = tf.constant([[[1, 1], [2, 2]],\n",
    "                 [[3, 3], [4, 4]]])\n",
    "# tensor 't' has shape [2, 2, 2]\n",
    "result = tf.reshape(t, [2, 4])\n",
    "sess.run(result)"
   ]
  },
  {
   "cell_type": "code",
   "execution_count": 6,
   "id": "8f32fb44",
   "metadata": {},
   "outputs": [
    {
     "data": {
      "text/plain": [
       "array([1, 1, 1, 2, 2, 2, 3, 3, 3, 4, 4, 4, 5, 5, 5, 6, 6, 6], dtype=int32)"
      ]
     },
     "execution_count": 6,
     "metadata": {},
     "output_type": "execute_result"
    }
   ],
   "source": [
    "t = tf.constant([[[1, 1, 1],\n",
    "                   [2, 2, 2]],\n",
    "                  [[3, 3, 3],\n",
    "                   [4, 4, 4]],\n",
    "                  [[5, 5, 5],\n",
    "                   [6, 6, 6]]])\n",
    "# tensor 't' has shape [3, 2, 3]\n",
    "# pass '[-1]' to flatten 't'\n",
    "result = tf.reshape(t, [-1])\n",
    "sess.run(result)"
   ]
  },
  {
   "cell_type": "code",
   "execution_count": 7,
   "id": "850b8a87",
   "metadata": {},
   "outputs": [
    {
     "data": {
      "text/plain": [
       "array([[1, 1, 1, 2, 2, 2, 3, 3, 3],\n",
       "       [4, 4, 4, 5, 5, 5, 6, 6, 6]], dtype=int32)"
      ]
     },
     "execution_count": 7,
     "metadata": {},
     "output_type": "execute_result"
    }
   ],
   "source": [
    "# -1 can also be used to infer the shape\n",
    "\n",
    "# -1 is inferred to be 9:\n",
    "result = tf.reshape(t, [2, -1])\n",
    "sess.run(result)"
   ]
  },
  {
   "cell_type": "code",
   "execution_count": 8,
   "id": "e9500dec",
   "metadata": {},
   "outputs": [
    {
     "data": {
      "text/plain": [
       "array([[1, 1, 1, 2, 2, 2, 3, 3, 3],\n",
       "       [4, 4, 4, 5, 5, 5, 6, 6, 6]], dtype=int32)"
      ]
     },
     "execution_count": 8,
     "metadata": {},
     "output_type": "execute_result"
    }
   ],
   "source": [
    "# -1 is inferred to be 2:\n",
    "result = tf.reshape(t, [-1, 9])\n",
    "sess.run(result)"
   ]
  },
  {
   "cell_type": "code",
   "execution_count": 9,
   "id": "88a71077",
   "metadata": {},
   "outputs": [
    {
     "data": {
      "text/plain": [
       "array([[[1, 1, 1],\n",
       "        [2, 2, 2],\n",
       "        [3, 3, 3]],\n",
       "\n",
       "       [[4, 4, 4],\n",
       "        [5, 5, 5],\n",
       "        [6, 6, 6]]], dtype=int32)"
      ]
     },
     "execution_count": 9,
     "metadata": {},
     "output_type": "execute_result"
    }
   ],
   "source": [
    "# -1 is inferred to be 3:\n",
    "result = tf.reshape(t, [ 2, -1, 3])\n",
    "sess.run(result)"
   ]
  },
  {
   "cell_type": "code",
   "execution_count": 10,
   "id": "cc04d7af",
   "metadata": {},
   "outputs": [
    {
     "data": {
      "text/plain": [
       "7"
      ]
     },
     "execution_count": 10,
     "metadata": {},
     "output_type": "execute_result"
    }
   ],
   "source": [
    "t = tf.constant([7])\n",
    "# shape `[]` reshapes to a scalar\n",
    "result = tf.reshape(t, [])\n",
    "sess.run(result)"
   ]
  },
  {
   "cell_type": "markdown",
   "id": "6b1e81e2",
   "metadata": {},
   "source": [
    "## tf.expand_dims"
   ]
  },
  {
   "cell_type": "code",
   "execution_count": 11,
   "id": "27d6d89c",
   "metadata": {},
   "outputs": [
    {
     "data": {
      "text/plain": [
       "(array([[1, 2, 3, 4, 5, 6, 7, 8, 9]], dtype=int32),\n",
       " array([9], dtype=int32),\n",
       " array([1, 9], dtype=int32))"
      ]
     },
     "execution_count": 11,
     "metadata": {},
     "output_type": "execute_result"
    }
   ],
   "source": [
    "t = tf.constant([1, 2, 3, 4, 5, 6, 7, 8, 9])\n",
    "expanded_1 = tf.expand_dims(t, axis=0)\n",
    "sess.run((expanded_1, tf.shape(t), tf.shape(expanded_1)))"
   ]
  },
  {
   "cell_type": "code",
   "execution_count": 12,
   "id": "1901bae5",
   "metadata": {},
   "outputs": [
    {
     "data": {
      "text/plain": [
       "(array([[[1],\n",
       "         [2],\n",
       "         [3],\n",
       "         [4],\n",
       "         [5],\n",
       "         [6],\n",
       "         [7],\n",
       "         [8],\n",
       "         [9]]], dtype=int32),\n",
       " array([1, 9, 1], dtype=int32))"
      ]
     },
     "execution_count": 12,
     "metadata": {},
     "output_type": "execute_result"
    }
   ],
   "source": [
    "expanded_2 = expanded_1[:, :, tf.newaxis]\n",
    "sess.run((expanded_2, tf.shape(expanded_2)))"
   ]
  },
  {
   "cell_type": "code",
   "execution_count": null,
   "id": "de7fe102",
   "metadata": {},
   "outputs": [],
   "source": []
  }
 ],
 "metadata": {
  "kernelspec": {
   "display_name": "Python 3",
   "language": "python",
   "name": "python3"
  },
  "language_info": {
   "codemirror_mode": {
    "name": "ipython",
    "version": 3
   },
   "file_extension": ".py",
   "mimetype": "text/x-python",
   "name": "python",
   "nbconvert_exporter": "python",
   "pygments_lexer": "ipython3",
   "version": "3.7.10"
  }
 },
 "nbformat": 4,
 "nbformat_minor": 5
}
