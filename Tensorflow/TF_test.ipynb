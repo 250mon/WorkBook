{
 "cells": [
  {
   "cell_type": "code",
   "execution_count": 12,
   "id": "f1f9eb19",
   "metadata": {},
   "outputs": [],
   "source": [
    "import tensorflow.compat.v1 as tf\n",
    "import numpy as np\n",
    "tf.compat.v1.disable_eager_execution() # need to disable eager in TF2.x"
   ]
  },
  {
   "cell_type": "markdown",
   "id": "b164683f",
   "metadata": {},
   "source": [
    "# tf.Session"
   ]
  },
  {
   "cell_type": "markdown",
   "id": "9780e491",
   "metadata": {},
   "source": [
    "[tf.Session](https://www.tensorflow.org/versions/r1.15/api_docs/python/tf/Session)"
   ]
  },
  {
   "cell_type": "markdown",
   "id": "b3b0319e",
   "metadata": {},
   "source": [
    "A `Session` object encapsulates the environment in which `Operation` objects are executed, and `Tensor` objects are evaluated. For example:"
   ]
  },
  {
   "cell_type": "code",
   "execution_count": 13,
   "id": "a0c990d2",
   "metadata": {},
   "outputs": [
    {
     "name": "stdout",
     "output_type": "stream",
     "text": [
      "30.0\n"
     ]
    }
   ],
   "source": [
    "# Build a graph.\n",
    "a = tf.constant(5.0)\n",
    "b = tf.constant(6.0)\n",
    "c = a * b\n",
    "\n",
    "# Launch the graph in a session.\n",
    "sess = tf.compat.v1.Session()\n",
    "\n",
    "# Evaluate the tensor `c`.\n",
    "print(sess.run(c)) # prints 30.0"
   ]
  },
  {
   "cell_type": "markdown",
   "id": "ae705c33",
   "metadata": {},
   "source": [
    "A session may own resources, such as [`tf.Variable`](https://www.tensorflow.org/api_docs/python/tf/Variable)www.tensorflow.org/api_docs/python/tf/queue/QueueBase), and [`tf.compat.v1.ReaderBase`](https://www.tensorflow.org/api_docs/python/tf/compat/v1/ReaderBase). It is important to release thees when they are no longer required. To do this, either invoke the `tf.Session.close` method on the session, or use the session as a context manager. The following two examples are equivalent:"
   ]
  },
  {
   "cell_type": "code",
   "execution_count": 14,
   "id": "ee7d93f7",
   "metadata": {},
   "outputs": [],
   "source": [
    "# Using the `close()` method.\n",
    "sess = tf.compat.v1.Session()\n",
    "sess.run(c)\n",
    "sess.close()"
   ]
  },
  {
   "cell_type": "code",
   "execution_count": 15,
   "id": "a43dfff1",
   "metadata": {},
   "outputs": [],
   "source": [
    "# Using the context manager.\n",
    "with tf.compat.v1.Session() as sess:\n",
    "  sess.run(c)\n",
    "# sess.run(c) => closed session error"
   ]
  },
  {
   "cell_type": "markdown",
   "id": "7fd1703e",
   "metadata": {},
   "source": [
    "## session.as_default()"
   ]
  },
  {
   "cell_type": "markdown",
   "id": "edc7eef3",
   "metadata": {},
   "source": [
    "Returns a context manager that makes this object the default session.\n",
    "\n",
    "Use with the `with` keyword to specify that calls to [`tf.Operation.run`](https://www.tensorflow.org/versions/r1.15/api_docs/python/tf/Operation#run) or [`tf.Tensor.eval`](https://www.tensorflow.org/versions/r1.15/api_docs/python/tf/Tensor#eval) should be executed in this sessio"
   ]
  },
  {
   "cell_type": "code",
   "execution_count": 16,
   "id": "fa8e86e6",
   "metadata": {},
   "outputs": [
    {
     "name": "stdout",
     "output_type": "stream",
     "text": [
      "30.0\n"
     ]
    }
   ],
   "source": [
    "# as_default() to use tensor.eval()\n",
    "# not close automatically\n",
    "sess1 = tf.compat.v1.Session()\n",
    "with sess1.as_default():\n",
    "  assert tf.compat.v1.get_default_session() is sess1\n",
    "  print(c.eval())\n",
    "\n",
    "# Note: The as_default context manager does not close the session when you exit the context, \n",
    "# and you must close the session explicitly.\n",
    "sess1.run(a)\n",
    "sess1.close()"
   ]
  },
  {
   "cell_type": "code",
   "execution_count": 17,
   "id": "73ed847d",
   "metadata": {},
   "outputs": [
    {
     "name": "stdout",
     "output_type": "stream",
     "text": [
      "30.0\n"
     ]
    }
   ],
   "source": [
    "# Alternatively, you can use with tf.compat.v1.Session(): \n",
    "# to create a session that is automatically closed on exiting the context, \n",
    "# including when an uncaught exception is raised.\n",
    "with tf.compat.v1.Session():\n",
    "  print(c.eval())"
   ]
  },
  {
   "cell_type": "markdown",
   "id": "0f6704bf",
   "metadata": {},
   "source": [
    "The [`ConfigProto`](https://www.tensorflow.org/code/tensorflow/core/protobuf/config.proto) protocol buffer exposes various configuration options for a session. For example, to create a session that uses soft constraints for device placement, and log the resulting placement decisions, create a session as follows:"
   ]
  },
  {
   "cell_type": "code",
   "execution_count": 18,
   "id": "7c47302e",
   "metadata": {},
   "outputs": [
    {
     "name": "stdout",
     "output_type": "stream",
     "text": [
      "Device mapping: no known devices.\n"
     ]
    }
   ],
   "source": [
    "# Launch the graph in a session that allows soft device placement and\n",
    "# logs the placement decisions.\n",
    "sess = tf.compat.v1.Session(config=tf.compat.v1.ConfigProto(\n",
    "    allow_soft_placement=True,\n",
    "    log_device_placement=True))"
   ]
  },
  {
   "cell_type": "markdown",
   "id": "8701e09a",
   "metadata": {},
   "source": [
    "# tf.Tensor"
   ]
  },
  {
   "cell_type": "markdown",
   "id": "21761860",
   "metadata": {},
   "source": [
    "[tf.Tensor](https://www.tensorflow.org/versions/r1.15/api_docs/python/tf/Tensor)"
   ]
  },
  {
   "cell_type": "code",
   "execution_count": 19,
   "id": "62522cfe",
   "metadata": {},
   "outputs": [
    {
     "data": {
      "text/plain": [
       "(<tf.Tensor 'Const_16:0' shape=(1, 2) dtype=float32>,\n",
       " <tf.Tensor 'Const_17:0' shape=(1, 2) dtype=float32>)"
      ]
     },
     "execution_count": 19,
     "metadata": {},
     "output_type": "execute_result"
    }
   ],
   "source": [
    "x = tf.constant([[2.0, 3.0]])\n",
    "y = tf.constant([[3.0, -5.0]])\n",
    "x, y"
   ]
  },
  {
   "cell_type": "markdown",
   "id": "7fab48fd",
   "metadata": {},
   "source": [
    "## tf.convert_to_tensor"
   ]
  },
  {
   "cell_type": "code",
   "execution_count": 20,
   "id": "7db98d66",
   "metadata": {},
   "outputs": [],
   "source": [
    "def my_func(arg):\n",
    "  arg = tf.convert_to_tensor(arg, dtype=tf.float32)\n",
    "  return tf.matmul(arg, arg) + arg\n",
    "\n",
    "# The following calls are equivalent.\n",
    "value_1 = my_func(tf.constant([[1.0, 2.0], [3.0, 4.0]]))\n",
    "value_2 = my_func([[1.0, 2.0], [3.0, 4.0]])\n",
    "value_3 = my_func(np.array([[1.0, 2.0], [3.0, 4.0]], dtype=np.float32))"
   ]
  },
  {
   "cell_type": "code",
   "execution_count": 21,
   "id": "9c6e6878",
   "metadata": {},
   "outputs": [
    {
     "data": {
      "text/plain": [
       "((array([[ 8., 12.],\n",
       "         [18., 26.]], dtype=float32),\n",
       "  array([[ 8., 12.],\n",
       "         [18., 26.]], dtype=float32),\n",
       "  array([[ 8., 12.],\n",
       "         [18., 26.]], dtype=float32)),\n",
       " <tf.Tensor 'add_5:0' shape=(2, 2) dtype=float32>,\n",
       " <tf.Tensor 'add_6:0' shape=(2, 2) dtype=float32>,\n",
       " <tf.Tensor 'add_7:0' shape=(2, 2) dtype=float32>)"
      ]
     },
     "execution_count": 21,
     "metadata": {},
     "output_type": "execute_result"
    }
   ],
   "source": [
    "sess.run((value_1, value_2, value_3)), value_1, value_2, value_3"
   ]
  },
  {
   "cell_type": "code",
   "execution_count": 22,
   "id": "6070bbc8",
   "metadata": {},
   "outputs": [
    {
     "name": "stdout",
     "output_type": "stream",
     "text": [
      "[3 4]\n",
      "[[3 2 1]\n",
      " [9 8 7]]\n",
      "3\n",
      "[[[1 2 3]\n",
      "  [4 5 6]\n",
      "  [7 8 9]]]\n",
      "[[[1 2 3]]\n",
      "\n",
      " [[4 5 6]]\n",
      "\n",
      " [[7 8 9]]]\n",
      "[[[1]\n",
      "  [2]\n",
      "  [3]]\n",
      "\n",
      " [[4]\n",
      "  [5]\n",
      "  [6]]\n",
      "\n",
      " [[7]\n",
      "  [8]\n",
      "  [9]]]\n",
      "[[[1 2 3]\n",
      "  [4 5 6]\n",
      "  [7 8 9]]]\n",
      "[[[1 2 3]\n",
      "  [4 5 6]\n",
      "  [7 8 9]]]\n",
      "[[[1 2 3]\n",
      "  [4 5 6]\n",
      "  [7 8 9]]]\n",
      "[3 4 5 6 7 8 9]\n"
     ]
    }
   ],
   "source": [
    "# Launch the graph in a session.\n",
    "sess2 = tf.compat.v1.Session()\n",
    "with sess2.as_default():\n",
    "    # Strip leading and trailing 2 elements\n",
    "    foo = tf.constant([1,2,3,4,5,6])\n",
    "    print(foo[2:-2].eval())  # => [3,4]\n",
    "    \n",
    "    # Skip every other row and reverse the order of the columns\n",
    "    foo = tf.constant([[1,2,3], [4,5,6], [7,8,9]])\n",
    "    print(foo[::2,::-1].eval())  # => [[3,2,1], [9,8,7]]\n",
    "\n",
    "    # Use scalar tensors as indices on both dimensions\n",
    "    print(foo[tf.constant(0), tf.constant(2)].eval())  # => 3\n",
    "\n",
    "    # Insert another dimension\n",
    "    foo = tf.constant([[1,2,3], [4,5,6], [7,8,9]])\n",
    "    print(foo[tf.newaxis, :, :].eval()) # => [[[1,2,3], [4,5,6], [7,8,9]]]\n",
    "    print(foo[:, tf.newaxis, :].eval()) # => [[[1,2,3]], [[4,5,6]], [[7,8,9]]]\n",
    "    print(foo[:, :, tf.newaxis].eval()) # => [[[1],[2],[3]], [[4],[5],[6]], [[7],[8],[9]]]\n",
    "\n",
    "    # Ellipses (3 equivalent operations)\n",
    "    foo = tf.constant([[1,2,3], [4,5,6], [7,8,9]])\n",
    "    print(foo[tf.newaxis, :, :].eval())  # => [[[1,2,3], [4,5,6], [7,8,9]]]\n",
    "    print(foo[tf.newaxis, ...].eval())  # => [[[1,2,3], [4,5,6], [7,8,9]]]\n",
    "    print(foo[tf.newaxis].eval())  # => [[[1,2,3], [4,5,6], [7,8,9]]]\n",
    "\n",
    "    # Masks\n",
    "    foo = tf.constant([[1,2,3], [4,5,6], [7,8,9]])\n",
    "    print(foo[foo > 2].eval())  # => [3, 4, 5, 6, 7, 8, 9]"
   ]
  },
  {
   "cell_type": "code",
   "execution_count": null,
   "id": "0e9af23a",
   "metadata": {},
   "outputs": [],
   "source": []
  },
  {
   "cell_type": "markdown",
   "id": "abf8975a",
   "metadata": {},
   "source": [
    "***"
   ]
  },
  {
   "cell_type": "markdown",
   "id": "c52ff78a",
   "metadata": {},
   "source": [
    "# tf.Variable"
   ]
  },
  {
   "cell_type": "markdown",
   "id": "828b771a",
   "metadata": {},
   "source": [
    "[tf.Variable](https://www.tensorflow.org/versions/r1.15/api_docs/python/tf/Variable)"
   ]
  },
  {
   "cell_type": "markdown",
   "id": "c2a63636",
   "metadata": {},
   "source": [
    "When you launch the graph, variables have to be explicitly initialized before you can run Ops that use their value. You can initialize a variable by running its *initializer op*, restoring the variable from a save file, or simply running an `assign` Op that assigns a value to the variable. In fact, the variable *initializer op* is just an `assign` Op that assigns the variable's initial value to the variable itself."
   ]
  },
  {
   "cell_type": "code",
   "execution_count": 23,
   "id": "48d0e189",
   "metadata": {},
   "outputs": [
    {
     "data": {
      "text/plain": [
       "(<tf.Tensor 'Const_28:0' shape=(1, 2) dtype=float32>,\n",
       " <tf.Tensor 'Const_29:0' shape=(1, 2) dtype=float32>,\n",
       " TensorShape([1, 2]))"
      ]
     },
     "execution_count": 23,
     "metadata": {},
     "output_type": "execute_result"
    }
   ],
   "source": [
    "x = tf.constant([[2.0, 3.0]])\n",
    "y = tf.constant([[3.0, -5.0]])\n",
    "x, y, x.get_shape()"
   ]
  },
  {
   "cell_type": "code",
   "execution_count": 24,
   "id": "3dc58463",
   "metadata": {},
   "outputs": [
    {
     "data": {
      "text/plain": [
       "TensorShape([2, 1])"
      ]
     },
     "execution_count": 24,
     "metadata": {},
     "output_type": "execute_result"
    }
   ],
   "source": [
    "# Create a variable.\n",
    "w = tf.Variable([[1.0], [1.0]])\n",
    "#w = tf.Variable(tf.ones([2, 1]))\n",
    "w.get_shape()"
   ]
  },
  {
   "cell_type": "code",
   "execution_count": 25,
   "id": "d2e8e98d",
   "metadata": {},
   "outputs": [
    {
     "data": {
      "text/plain": [
       "(<tf.Tensor 'MatMul_6:0' shape=(2, 2) dtype=float32>,\n",
       " <tf.Tensor 'Sigmoid:0' shape=(2, 2) dtype=float32>)"
      ]
     },
     "execution_count": 25,
     "metadata": {},
     "output_type": "execute_result"
    }
   ],
   "source": [
    "# Use the variable in the graph like any Tensor.\n",
    "x1 = tf.matmul(w, x)\n",
    "\n",
    "# The overloaded operators are available too.\n",
    "z = tf.sigmoid(w + x1)\n",
    "x1, z"
   ]
  },
  {
   "cell_type": "code",
   "execution_count": 26,
   "id": "51d2215b",
   "metadata": {},
   "outputs": [],
   "source": [
    "ass_op = tf.assign(w, tf.ones([2, 1])) # work\n",
    "# ass_op = w.assign(tf.ones([2, 1])) not work because w is not initialized"
   ]
  },
  {
   "cell_type": "code",
   "execution_count": 27,
   "id": "c7bc122a",
   "metadata": {},
   "outputs": [],
   "source": [
    "sess_v = tf.Session()"
   ]
  },
  {
   "cell_type": "code",
   "execution_count": 28,
   "id": "50ed1f55",
   "metadata": {},
   "outputs": [
    {
     "data": {
      "text/plain": [
       "array([[1.],\n",
       "       [1.]], dtype=float32)"
      ]
     },
     "execution_count": 28,
     "metadata": {},
     "output_type": "execute_result"
    }
   ],
   "source": [
    "sess_v.run(ass_op) # the same as sess_v.run(w.initializer)"
   ]
  },
  {
   "cell_type": "code",
   "execution_count": 29,
   "id": "cbcb1f51",
   "metadata": {},
   "outputs": [
    {
     "data": {
      "text/plain": [
       "(array([[2., 3.],\n",
       "        [2., 3.]], dtype=float32),\n",
       " array([[0.95257413, 0.98201376],\n",
       "        [0.95257413, 0.98201376]], dtype=float32))"
      ]
     },
     "execution_count": 29,
     "metadata": {},
     "output_type": "execute_result"
    }
   ],
   "source": [
    "sess_v.run((x1, z))"
   ]
  },
  {
   "cell_type": "code",
   "execution_count": 30,
   "id": "abd92b88",
   "metadata": {},
   "outputs": [
    {
     "data": {
      "text/plain": [
       "<tf.Variable 'AssignVariableOp_1' shape=(2, 1) dtype=float32>"
      ]
     },
     "execution_count": 30,
     "metadata": {},
     "output_type": "execute_result"
    }
   ],
   "source": [
    "# Assign a new value to the variable with `assign()` or a related method.\n",
    "w.assign(tf.add(w, 1.0))"
   ]
  },
  {
   "cell_type": "code",
   "execution_count": 31,
   "id": "5ba97f0a",
   "metadata": {},
   "outputs": [
    {
     "data": {
      "text/plain": [
       "<tf.Variable 'AssignAddVariableOp' shape=(2, 1) dtype=float32>"
      ]
     },
     "execution_count": 31,
     "metadata": {},
     "output_type": "execute_result"
    }
   ],
   "source": [
    "w.assign_add(tf.constant([[1.0], [1.0]]))"
   ]
  },
  {
   "cell_type": "code",
   "execution_count": 32,
   "id": "f8b9e077",
   "metadata": {},
   "outputs": [],
   "source": [
    "sess_v.close()"
   ]
  },
  {
   "cell_type": "markdown",
   "id": "bc9d6426",
   "metadata": {},
   "source": [
    "***"
   ]
  },
  {
   "cell_type": "code",
   "execution_count": 33,
   "id": "07e25ea6",
   "metadata": {},
   "outputs": [
    {
     "data": {
      "text/plain": [
       "(<tf.Variable 'Variable_1:0' shape=() dtype=float32>,\n",
       " <tf.Variable 'AssignAddVariableOp_1' shape=() dtype=float32>)"
      ]
     },
     "execution_count": 33,
     "metadata": {},
     "output_type": "execute_result"
    }
   ],
   "source": [
    "# Create a variable.\n",
    "w = tf.Variable(0.)\n",
    "# Use the variable in the graph like any Tensor.\n",
    "op = w.assign_add(1.)\n",
    "w, op"
   ]
  },
  {
   "cell_type": "code",
   "execution_count": 34,
   "id": "eea0d438",
   "metadata": {},
   "outputs": [],
   "source": [
    "sess2 = tf.Session()\n",
    "sess2.run(w.initializer)"
   ]
  },
  {
   "cell_type": "code",
   "execution_count": 35,
   "id": "1feb1723",
   "metadata": {},
   "outputs": [
    {
     "data": {
      "text/plain": [
       "(<tf.Variable 'AssignAddVariableOp_1' shape=() dtype=float32>,\n",
       " 1.0,\n",
       " <tf.Variable 'Variable_1:0' shape=() dtype=float32>,\n",
       " 1.0,\n",
       " (2.0, 1.0))"
      ]
     },
     "execution_count": 35,
     "metadata": {},
     "output_type": "execute_result"
    }
   ],
   "source": [
    "# ...you now can run ops that use the value of 'w'...\n",
    "ret_op = sess2.run(op)\n",
    "ret_w = sess2.run(w)\n",
    "ret_both = sess2.run((op, w))\n",
    "op, ret_op, w, ret_w, ret_both"
   ]
  },
  {
   "cell_type": "code",
   "execution_count": 36,
   "id": "9ba9625e",
   "metadata": {},
   "outputs": [
    {
     "data": {
      "text/plain": [
       "((array([[4., 6.]], dtype=float32), array([[2., 3.]], dtype=float32), 2.0),\n",
       " <tf.Tensor 'mul_2:0' shape=(1, 2) dtype=float32>,\n",
       " <tf.Tensor 'Const_28:0' shape=(1, 2) dtype=float32>,\n",
       " <tf.Variable 'Variable_1:0' shape=() dtype=float32>)"
      ]
     },
     "execution_count": 36,
     "metadata": {},
     "output_type": "execute_result"
    }
   ],
   "source": [
    "y = x * w\n",
    "sess2.run((y, x, w)), y, x, w"
   ]
  },
  {
   "cell_type": "markdown",
   "id": "b635735e",
   "metadata": {},
   "source": [
    "***"
   ]
  },
  {
   "cell_type": "markdown",
   "id": "934bba86",
   "metadata": {},
   "source": [
    "# tf.function"
   ]
  },
  {
   "cell_type": "markdown",
   "id": "e84b89ed",
   "metadata": {},
   "source": [
    "[tf.function](https://www.tensorflow.org/versions/r1.15/api_docs/python/tf/function)"
   ]
  },
  {
   "cell_type": "markdown",
   "id": "757a3681",
   "metadata": {},
   "source": [
    "```\n",
    "tf.function(\n",
    "    func=None, input_signature=None, autograph=True,\n",
    "    experimental_autograph_options=None, experimental_relax_shapes=False,\n",
    "    experimental_compile=None\n",
    ")\n",
    "```"
   ]
  },
  {
   "cell_type": "markdown",
   "id": "6a24babe",
   "metadata": {},
   "source": [
    "`function` constructs a callable that executes a TensorFlow graph (`tf.Graph`) created by tracing the TensorFlow operations in `func`. This allows the TensorFlow runtime to apply optimizations and exploit parallelism in the computation defined by `func`."
   ]
  },
  {
   "cell_type": "code",
   "execution_count": 37,
   "id": "be5a40c4",
   "metadata": {},
   "outputs": [],
   "source": [
    "def f(x, y):\n",
    "  return tf.reduce_mean(tf.multiply(x ** 2, 3) + y)"
   ]
  },
  {
   "cell_type": "code",
   "execution_count": 38,
   "id": "55fc7437",
   "metadata": {},
   "outputs": [],
   "source": [
    "g = tf.function(f)\n",
    "x_1 = tf.constant([[2.0, 3.0]])\n",
    "y_1 = tf.constant([[3.0, -5.0]])"
   ]
  },
  {
   "cell_type": "code",
   "execution_count": 39,
   "id": "6c731e1a",
   "metadata": {},
   "outputs": [
    {
     "data": {
      "text/plain": [
       "(18.5, 18.5)"
      ]
     },
     "execution_count": 39,
     "metadata": {},
     "output_type": "execute_result"
    }
   ],
   "source": [
    "sess = tf.Session()\n",
    "# `f` and `g` will return the same value, but `g` will be executed as a TensorFlow graph.\n",
    "sess.run(g(x_1, y_1)), sess.run(f(x_1, y_1))"
   ]
  },
  {
   "cell_type": "code",
   "execution_count": 40,
   "id": "34b3ad9f",
   "metadata": {},
   "outputs": [],
   "source": [
    "# Tensors and tf.Variables used by the Python function are captured in the graph.\n",
    "@tf.function\n",
    "def h():\n",
    "  return f(x_1, y_1)"
   ]
  },
  {
   "cell_type": "code",
   "execution_count": 41,
   "id": "4610b779",
   "metadata": {},
   "outputs": [
    {
     "data": {
      "text/plain": [
       "18.5"
      ]
     },
     "execution_count": 41,
     "metadata": {},
     "output_type": "execute_result"
    }
   ],
   "source": [
    "sess.run(h())"
   ]
  },
  {
   "cell_type": "code",
   "execution_count": 42,
   "id": "fe30c6f1",
   "metadata": {},
   "outputs": [],
   "source": [
    "# Data-dependent control flow is also captured in the graph.\n",
    "# Supported control flow statements include `if`, `for`, `while`, `break`, `continue`, `return`.\n",
    "@tf.function\n",
    "def gcond(x):\n",
    "  if tf.reduce_sum(x) > 0:\n",
    "    return x * x\n",
    "  else:\n",
    "    return -x // 2"
   ]
  },
  {
   "cell_type": "code",
   "execution_count": 43,
   "id": "365c54b8",
   "metadata": {},
   "outputs": [
    {
     "data": {
      "text/plain": [
       "(array([[4., 9.]], dtype=float32), array([[-2.,  2.]], dtype=float32))"
      ]
     },
     "execution_count": 43,
     "metadata": {},
     "output_type": "execute_result"
    }
   ],
   "source": [
    "sess.run(gcond(x_1)), sess.run(gcond(y_1))"
   ]
  },
  {
   "cell_type": "code",
   "execution_count": 56,
   "id": "a8430a1c",
   "metadata": {},
   "outputs": [],
   "source": [
    "# print and TensorFlow side effects are supported, but exercise caution when\n",
    "# using Python side effects like mutating objects, saving to files, etc.\n",
    "l = []\n",
    "v = tf.Variable(0)\n",
    "\n",
    "@tf.function\n",
    "def gpy(x):\n",
    "  for i in x:\n",
    "    print(i)                              # Works\n",
    "    tf.compat.v1.assign(v, i)                       # Works\n",
    "    #tf.compat.v1.py_func(lambda i: l.append(i))(i)  # Works\n",
    "    #l.append(i)                           # Caution! Doesn't work."
   ]
  },
  {
   "cell_type": "markdown",
   "id": "58c2124f",
   "metadata": {},
   "source": [
    "Note that unlike other TensorFlow operations, we don't convert python numerical inputs to tensors. Moreover, a new graph is generated for each distinct python numerical value, for example calling `g(2)` and `g(3)` will generate two new graphs (while only one is generated if you call `g(tf.constant(2))` and `g(tf.constant(3))`). Therefore, python numerical inputs should be restricted to arguments that will have few distinct values, such as hyperparameters like the number of layers in a neural network. This allows TensorFlow to optimize each variant of the neural network."
   ]
  },
  {
   "cell_type": "code",
   "execution_count": 57,
   "id": "59aa9e96",
   "metadata": {},
   "outputs": [
    {
     "name": "stdout",
     "output_type": "stream",
     "text": [
      "1\n"
     ]
    },
    {
     "ename": "TypeError",
     "evalue": "in user code:\n\n    <ipython-input-52-28cc5f64b4ed>:11 gpy  *\n        tf.compat.v1.py_func(lambda i: l.append(i))(i)  # Works\n    /home/jy/anaconda3/envs/tensor_adv/lib/python3.9/site-packages/tensorflow/python/util/deprecation.py:340 new_func  **\n        return func(*args, **kwargs)\n    /home/jy/anaconda3/envs/tensor_adv/lib/python3.9/site-packages/tensorflow/python/util/dispatch.py:201 wrapper\n        return target(*args, **kwargs)\n\n    TypeError: py_func() missing 2 required positional arguments: 'inp' and 'Tout'\n",
     "output_type": "error",
     "traceback": [
      "\u001b[0;31m---------------------------------------------------------------------------\u001b[0m",
      "\u001b[0;31mTypeError\u001b[0m                                 Traceback (most recent call last)",
      "\u001b[0;32m<ipython-input-57-563f0a2b15b7>\u001b[0m in \u001b[0;36m<module>\u001b[0;34m\u001b[0m\n\u001b[1;32m      1\u001b[0m \u001b[0msess\u001b[0m\u001b[0;34m.\u001b[0m\u001b[0mrun\u001b[0m\u001b[0;34m(\u001b[0m\u001b[0mv\u001b[0m\u001b[0;34m.\u001b[0m\u001b[0minitializer\u001b[0m\u001b[0;34m)\u001b[0m\u001b[0;34m\u001b[0m\u001b[0;34m\u001b[0m\u001b[0m\n\u001b[1;32m      2\u001b[0m \u001b[0mop1\u001b[0m \u001b[0;34m=\u001b[0m \u001b[0mtf\u001b[0m\u001b[0;34m.\u001b[0m\u001b[0mcompat\u001b[0m\u001b[0;34m.\u001b[0m\u001b[0mv1\u001b[0m\u001b[0;34m.\u001b[0m\u001b[0massign\u001b[0m\u001b[0;34m(\u001b[0m\u001b[0mv\u001b[0m\u001b[0;34m,\u001b[0m \u001b[0;36m1\u001b[0m\u001b[0;34m)\u001b[0m\u001b[0;34m\u001b[0m\u001b[0;34m\u001b[0m\u001b[0m\n\u001b[0;32m----> 3\u001b[0;31m \u001b[0msess\u001b[0m\u001b[0;34m.\u001b[0m\u001b[0mrun\u001b[0m\u001b[0;34m(\u001b[0m\u001b[0mgpy\u001b[0m\u001b[0;34m(\u001b[0m\u001b[0;34m[\u001b[0m\u001b[0;36m1\u001b[0m\u001b[0;34m,\u001b[0m \u001b[0;36m2\u001b[0m\u001b[0;34m]\u001b[0m\u001b[0;34m)\u001b[0m\u001b[0;34m)\u001b[0m\u001b[0;34m\u001b[0m\u001b[0;34m\u001b[0m\u001b[0m\n\u001b[0m\u001b[1;32m      4\u001b[0m \u001b[0msess\u001b[0m\u001b[0;34m.\u001b[0m\u001b[0mrun\u001b[0m\u001b[0;34m(\u001b[0m\u001b[0mop1\u001b[0m\u001b[0;34m)\u001b[0m\u001b[0;34m\u001b[0m\u001b[0;34m\u001b[0m\u001b[0m\n",
      "\u001b[0;32m~/anaconda3/envs/tensor_adv/lib/python3.9/site-packages/tensorflow/python/eager/def_function.py\u001b[0m in \u001b[0;36m__call__\u001b[0;34m(self, *args, **kwds)\u001b[0m\n\u001b[1;32m    826\u001b[0m     \u001b[0mtracing_count\u001b[0m \u001b[0;34m=\u001b[0m \u001b[0mself\u001b[0m\u001b[0;34m.\u001b[0m\u001b[0mexperimental_get_tracing_count\u001b[0m\u001b[0;34m(\u001b[0m\u001b[0;34m)\u001b[0m\u001b[0;34m\u001b[0m\u001b[0;34m\u001b[0m\u001b[0m\n\u001b[1;32m    827\u001b[0m     \u001b[0;32mwith\u001b[0m \u001b[0mtrace\u001b[0m\u001b[0;34m.\u001b[0m\u001b[0mTrace\u001b[0m\u001b[0;34m(\u001b[0m\u001b[0mself\u001b[0m\u001b[0;34m.\u001b[0m\u001b[0m_name\u001b[0m\u001b[0;34m)\u001b[0m \u001b[0;32mas\u001b[0m \u001b[0mtm\u001b[0m\u001b[0;34m:\u001b[0m\u001b[0;34m\u001b[0m\u001b[0;34m\u001b[0m\u001b[0m\n\u001b[0;32m--> 828\u001b[0;31m       \u001b[0mresult\u001b[0m \u001b[0;34m=\u001b[0m \u001b[0mself\u001b[0m\u001b[0;34m.\u001b[0m\u001b[0m_call\u001b[0m\u001b[0;34m(\u001b[0m\u001b[0;34m*\u001b[0m\u001b[0margs\u001b[0m\u001b[0;34m,\u001b[0m \u001b[0;34m**\u001b[0m\u001b[0mkwds\u001b[0m\u001b[0;34m)\u001b[0m\u001b[0;34m\u001b[0m\u001b[0;34m\u001b[0m\u001b[0m\n\u001b[0m\u001b[1;32m    829\u001b[0m       \u001b[0mcompiler\u001b[0m \u001b[0;34m=\u001b[0m \u001b[0;34m\"xla\"\u001b[0m \u001b[0;32mif\u001b[0m \u001b[0mself\u001b[0m\u001b[0;34m.\u001b[0m\u001b[0m_experimental_compile\u001b[0m \u001b[0;32melse\u001b[0m \u001b[0;34m\"nonXla\"\u001b[0m\u001b[0;34m\u001b[0m\u001b[0;34m\u001b[0m\u001b[0m\n\u001b[1;32m    830\u001b[0m       \u001b[0mnew_tracing_count\u001b[0m \u001b[0;34m=\u001b[0m \u001b[0mself\u001b[0m\u001b[0;34m.\u001b[0m\u001b[0mexperimental_get_tracing_count\u001b[0m\u001b[0;34m(\u001b[0m\u001b[0;34m)\u001b[0m\u001b[0;34m\u001b[0m\u001b[0;34m\u001b[0m\u001b[0m\n",
      "\u001b[0;32m~/anaconda3/envs/tensor_adv/lib/python3.9/site-packages/tensorflow/python/eager/def_function.py\u001b[0m in \u001b[0;36m_call\u001b[0;34m(self, *args, **kwds)\u001b[0m\n\u001b[1;32m    869\u001b[0m       \u001b[0;31m# This is the first call of __call__, so we have to initialize.\u001b[0m\u001b[0;34m\u001b[0m\u001b[0;34m\u001b[0m\u001b[0;34m\u001b[0m\u001b[0m\n\u001b[1;32m    870\u001b[0m       \u001b[0minitializers\u001b[0m \u001b[0;34m=\u001b[0m \u001b[0;34m[\u001b[0m\u001b[0;34m]\u001b[0m\u001b[0;34m\u001b[0m\u001b[0;34m\u001b[0m\u001b[0m\n\u001b[0;32m--> 871\u001b[0;31m       \u001b[0mself\u001b[0m\u001b[0;34m.\u001b[0m\u001b[0m_initialize\u001b[0m\u001b[0;34m(\u001b[0m\u001b[0margs\u001b[0m\u001b[0;34m,\u001b[0m \u001b[0mkwds\u001b[0m\u001b[0;34m,\u001b[0m \u001b[0madd_initializers_to\u001b[0m\u001b[0;34m=\u001b[0m\u001b[0minitializers\u001b[0m\u001b[0;34m)\u001b[0m\u001b[0;34m\u001b[0m\u001b[0;34m\u001b[0m\u001b[0m\n\u001b[0m\u001b[1;32m    872\u001b[0m     \u001b[0;32mfinally\u001b[0m\u001b[0;34m:\u001b[0m\u001b[0;34m\u001b[0m\u001b[0;34m\u001b[0m\u001b[0m\n\u001b[1;32m    873\u001b[0m       \u001b[0;31m# At this point we know that the initialization is complete (or less\u001b[0m\u001b[0;34m\u001b[0m\u001b[0;34m\u001b[0m\u001b[0;34m\u001b[0m\u001b[0m\n",
      "\u001b[0;32m~/anaconda3/envs/tensor_adv/lib/python3.9/site-packages/tensorflow/python/eager/def_function.py\u001b[0m in \u001b[0;36m_initialize\u001b[0;34m(self, args, kwds, add_initializers_to)\u001b[0m\n\u001b[1;32m    723\u001b[0m     \u001b[0mself\u001b[0m\u001b[0;34m.\u001b[0m\u001b[0m_graph_deleter\u001b[0m \u001b[0;34m=\u001b[0m \u001b[0mFunctionDeleter\u001b[0m\u001b[0;34m(\u001b[0m\u001b[0mself\u001b[0m\u001b[0;34m.\u001b[0m\u001b[0m_lifted_initializer_graph\u001b[0m\u001b[0;34m)\u001b[0m\u001b[0;34m\u001b[0m\u001b[0;34m\u001b[0m\u001b[0m\n\u001b[1;32m    724\u001b[0m     self._concrete_stateful_fn = (\n\u001b[0;32m--> 725\u001b[0;31m         self._stateful_fn._get_concrete_function_internal_garbage_collected(  # pylint: disable=protected-access\n\u001b[0m\u001b[1;32m    726\u001b[0m             *args, **kwds))\n\u001b[1;32m    727\u001b[0m \u001b[0;34m\u001b[0m\u001b[0m\n",
      "\u001b[0;32m~/anaconda3/envs/tensor_adv/lib/python3.9/site-packages/tensorflow/python/eager/function.py\u001b[0m in \u001b[0;36m_get_concrete_function_internal_garbage_collected\u001b[0;34m(self, *args, **kwargs)\u001b[0m\n\u001b[1;32m   2967\u001b[0m       \u001b[0margs\u001b[0m\u001b[0;34m,\u001b[0m \u001b[0mkwargs\u001b[0m \u001b[0;34m=\u001b[0m \u001b[0;32mNone\u001b[0m\u001b[0;34m,\u001b[0m \u001b[0;32mNone\u001b[0m\u001b[0;34m\u001b[0m\u001b[0;34m\u001b[0m\u001b[0m\n\u001b[1;32m   2968\u001b[0m     \u001b[0;32mwith\u001b[0m \u001b[0mself\u001b[0m\u001b[0;34m.\u001b[0m\u001b[0m_lock\u001b[0m\u001b[0;34m:\u001b[0m\u001b[0;34m\u001b[0m\u001b[0;34m\u001b[0m\u001b[0m\n\u001b[0;32m-> 2969\u001b[0;31m       \u001b[0mgraph_function\u001b[0m\u001b[0;34m,\u001b[0m \u001b[0m_\u001b[0m \u001b[0;34m=\u001b[0m \u001b[0mself\u001b[0m\u001b[0;34m.\u001b[0m\u001b[0m_maybe_define_function\u001b[0m\u001b[0;34m(\u001b[0m\u001b[0margs\u001b[0m\u001b[0;34m,\u001b[0m \u001b[0mkwargs\u001b[0m\u001b[0;34m)\u001b[0m\u001b[0;34m\u001b[0m\u001b[0;34m\u001b[0m\u001b[0m\n\u001b[0m\u001b[1;32m   2970\u001b[0m     \u001b[0;32mreturn\u001b[0m \u001b[0mgraph_function\u001b[0m\u001b[0;34m\u001b[0m\u001b[0;34m\u001b[0m\u001b[0m\n\u001b[1;32m   2971\u001b[0m \u001b[0;34m\u001b[0m\u001b[0m\n",
      "\u001b[0;32m~/anaconda3/envs/tensor_adv/lib/python3.9/site-packages/tensorflow/python/eager/function.py\u001b[0m in \u001b[0;36m_maybe_define_function\u001b[0;34m(self, args, kwargs)\u001b[0m\n\u001b[1;32m   3359\u001b[0m \u001b[0;34m\u001b[0m\u001b[0m\n\u001b[1;32m   3360\u001b[0m           \u001b[0mself\u001b[0m\u001b[0;34m.\u001b[0m\u001b[0m_function_cache\u001b[0m\u001b[0;34m.\u001b[0m\u001b[0mmissed\u001b[0m\u001b[0;34m.\u001b[0m\u001b[0madd\u001b[0m\u001b[0;34m(\u001b[0m\u001b[0mcall_context_key\u001b[0m\u001b[0;34m)\u001b[0m\u001b[0;34m\u001b[0m\u001b[0;34m\u001b[0m\u001b[0m\n\u001b[0;32m-> 3361\u001b[0;31m           \u001b[0mgraph_function\u001b[0m \u001b[0;34m=\u001b[0m \u001b[0mself\u001b[0m\u001b[0;34m.\u001b[0m\u001b[0m_create_graph_function\u001b[0m\u001b[0;34m(\u001b[0m\u001b[0margs\u001b[0m\u001b[0;34m,\u001b[0m \u001b[0mkwargs\u001b[0m\u001b[0;34m)\u001b[0m\u001b[0;34m\u001b[0m\u001b[0;34m\u001b[0m\u001b[0m\n\u001b[0m\u001b[1;32m   3362\u001b[0m           \u001b[0mself\u001b[0m\u001b[0;34m.\u001b[0m\u001b[0m_function_cache\u001b[0m\u001b[0;34m.\u001b[0m\u001b[0mprimary\u001b[0m\u001b[0;34m[\u001b[0m\u001b[0mcache_key\u001b[0m\u001b[0;34m]\u001b[0m \u001b[0;34m=\u001b[0m \u001b[0mgraph_function\u001b[0m\u001b[0;34m\u001b[0m\u001b[0;34m\u001b[0m\u001b[0m\n\u001b[1;32m   3363\u001b[0m \u001b[0;34m\u001b[0m\u001b[0m\n",
      "\u001b[0;32m~/anaconda3/envs/tensor_adv/lib/python3.9/site-packages/tensorflow/python/eager/function.py\u001b[0m in \u001b[0;36m_create_graph_function\u001b[0;34m(self, args, kwargs, override_flat_arg_shapes)\u001b[0m\n\u001b[1;32m   3194\u001b[0m     \u001b[0marg_names\u001b[0m \u001b[0;34m=\u001b[0m \u001b[0mbase_arg_names\u001b[0m \u001b[0;34m+\u001b[0m \u001b[0mmissing_arg_names\u001b[0m\u001b[0;34m\u001b[0m\u001b[0;34m\u001b[0m\u001b[0m\n\u001b[1;32m   3195\u001b[0m     graph_function = ConcreteFunction(\n\u001b[0;32m-> 3196\u001b[0;31m         func_graph_module.func_graph_from_py_func(\n\u001b[0m\u001b[1;32m   3197\u001b[0m             \u001b[0mself\u001b[0m\u001b[0;34m.\u001b[0m\u001b[0m_name\u001b[0m\u001b[0;34m,\u001b[0m\u001b[0;34m\u001b[0m\u001b[0;34m\u001b[0m\u001b[0m\n\u001b[1;32m   3198\u001b[0m             \u001b[0mself\u001b[0m\u001b[0;34m.\u001b[0m\u001b[0m_python_function\u001b[0m\u001b[0;34m,\u001b[0m\u001b[0;34m\u001b[0m\u001b[0;34m\u001b[0m\u001b[0m\n",
      "\u001b[0;32m~/anaconda3/envs/tensor_adv/lib/python3.9/site-packages/tensorflow/python/framework/func_graph.py\u001b[0m in \u001b[0;36mfunc_graph_from_py_func\u001b[0;34m(name, python_func, args, kwargs, signature, func_graph, autograph, autograph_options, add_control_dependencies, arg_names, op_return_value, collections, capture_by_value, override_flat_arg_shapes)\u001b[0m\n\u001b[1;32m    988\u001b[0m         \u001b[0m_\u001b[0m\u001b[0;34m,\u001b[0m \u001b[0moriginal_func\u001b[0m \u001b[0;34m=\u001b[0m \u001b[0mtf_decorator\u001b[0m\u001b[0;34m.\u001b[0m\u001b[0munwrap\u001b[0m\u001b[0;34m(\u001b[0m\u001b[0mpython_func\u001b[0m\u001b[0;34m)\u001b[0m\u001b[0;34m\u001b[0m\u001b[0;34m\u001b[0m\u001b[0m\n\u001b[1;32m    989\u001b[0m \u001b[0;34m\u001b[0m\u001b[0m\n\u001b[0;32m--> 990\u001b[0;31m       \u001b[0mfunc_outputs\u001b[0m \u001b[0;34m=\u001b[0m \u001b[0mpython_func\u001b[0m\u001b[0;34m(\u001b[0m\u001b[0;34m*\u001b[0m\u001b[0mfunc_args\u001b[0m\u001b[0;34m,\u001b[0m \u001b[0;34m**\u001b[0m\u001b[0mfunc_kwargs\u001b[0m\u001b[0;34m)\u001b[0m\u001b[0;34m\u001b[0m\u001b[0;34m\u001b[0m\u001b[0m\n\u001b[0m\u001b[1;32m    991\u001b[0m \u001b[0;34m\u001b[0m\u001b[0m\n\u001b[1;32m    992\u001b[0m       \u001b[0;31m# invariant: `func_outputs` contains only Tensors, CompositeTensors,\u001b[0m\u001b[0;34m\u001b[0m\u001b[0;34m\u001b[0m\u001b[0;34m\u001b[0m\u001b[0m\n",
      "\u001b[0;32m~/anaconda3/envs/tensor_adv/lib/python3.9/site-packages/tensorflow/python/eager/def_function.py\u001b[0m in \u001b[0;36mwrapped_fn\u001b[0;34m(*args, **kwds)\u001b[0m\n\u001b[1;32m    632\u001b[0m             \u001b[0mxla_context\u001b[0m\u001b[0;34m.\u001b[0m\u001b[0mExit\u001b[0m\u001b[0;34m(\u001b[0m\u001b[0;34m)\u001b[0m\u001b[0;34m\u001b[0m\u001b[0;34m\u001b[0m\u001b[0m\n\u001b[1;32m    633\u001b[0m         \u001b[0;32melse\u001b[0m\u001b[0;34m:\u001b[0m\u001b[0;34m\u001b[0m\u001b[0;34m\u001b[0m\u001b[0m\n\u001b[0;32m--> 634\u001b[0;31m           \u001b[0mout\u001b[0m \u001b[0;34m=\u001b[0m \u001b[0mweak_wrapped_fn\u001b[0m\u001b[0;34m(\u001b[0m\u001b[0;34m)\u001b[0m\u001b[0;34m.\u001b[0m\u001b[0m__wrapped__\u001b[0m\u001b[0;34m(\u001b[0m\u001b[0;34m*\u001b[0m\u001b[0margs\u001b[0m\u001b[0;34m,\u001b[0m \u001b[0;34m**\u001b[0m\u001b[0mkwds\u001b[0m\u001b[0;34m)\u001b[0m\u001b[0;34m\u001b[0m\u001b[0;34m\u001b[0m\u001b[0m\n\u001b[0m\u001b[1;32m    635\u001b[0m         \u001b[0;32mreturn\u001b[0m \u001b[0mout\u001b[0m\u001b[0;34m\u001b[0m\u001b[0;34m\u001b[0m\u001b[0m\n\u001b[1;32m    636\u001b[0m \u001b[0;34m\u001b[0m\u001b[0m\n",
      "\u001b[0;32m~/anaconda3/envs/tensor_adv/lib/python3.9/site-packages/tensorflow/python/framework/func_graph.py\u001b[0m in \u001b[0;36mwrapper\u001b[0;34m(*args, **kwargs)\u001b[0m\n\u001b[1;32m    975\u001b[0m           \u001b[0;32mexcept\u001b[0m \u001b[0mException\u001b[0m \u001b[0;32mas\u001b[0m \u001b[0me\u001b[0m\u001b[0;34m:\u001b[0m  \u001b[0;31m# pylint:disable=broad-except\u001b[0m\u001b[0;34m\u001b[0m\u001b[0;34m\u001b[0m\u001b[0m\n\u001b[1;32m    976\u001b[0m             \u001b[0;32mif\u001b[0m \u001b[0mhasattr\u001b[0m\u001b[0;34m(\u001b[0m\u001b[0me\u001b[0m\u001b[0;34m,\u001b[0m \u001b[0;34m\"ag_error_metadata\"\u001b[0m\u001b[0;34m)\u001b[0m\u001b[0;34m:\u001b[0m\u001b[0;34m\u001b[0m\u001b[0;34m\u001b[0m\u001b[0m\n\u001b[0;32m--> 977\u001b[0;31m               \u001b[0;32mraise\u001b[0m \u001b[0me\u001b[0m\u001b[0;34m.\u001b[0m\u001b[0mag_error_metadata\u001b[0m\u001b[0;34m.\u001b[0m\u001b[0mto_exception\u001b[0m\u001b[0;34m(\u001b[0m\u001b[0me\u001b[0m\u001b[0;34m)\u001b[0m\u001b[0;34m\u001b[0m\u001b[0;34m\u001b[0m\u001b[0m\n\u001b[0m\u001b[1;32m    978\u001b[0m             \u001b[0;32melse\u001b[0m\u001b[0;34m:\u001b[0m\u001b[0;34m\u001b[0m\u001b[0;34m\u001b[0m\u001b[0m\n\u001b[1;32m    979\u001b[0m               \u001b[0;32mraise\u001b[0m\u001b[0;34m\u001b[0m\u001b[0;34m\u001b[0m\u001b[0m\n",
      "\u001b[0;31mTypeError\u001b[0m: in user code:\n\n    <ipython-input-52-28cc5f64b4ed>:11 gpy  *\n        tf.compat.v1.py_func(lambda i: l.append(i))(i)  # Works\n    /home/jy/anaconda3/envs/tensor_adv/lib/python3.9/site-packages/tensorflow/python/util/deprecation.py:340 new_func  **\n        return func(*args, **kwargs)\n    /home/jy/anaconda3/envs/tensor_adv/lib/python3.9/site-packages/tensorflow/python/util/dispatch.py:201 wrapper\n        return target(*args, **kwargs)\n\n    TypeError: py_func() missing 2 required positional arguments: 'inp' and 'Tout'\n"
     ]
    }
   ],
   "source": [
    "sess.run(v.initializer)\n",
    "sess.run(gpy([1, 2]))"
   ]
  },
  {
   "cell_type": "markdown",
   "id": "c93580b2",
   "metadata": {},
   "source": [
    "The Python function `func` may reference stateful objects (such as [`tf.Variable`](https://www.tensorflow.org/versions/r1.15/api_docs/python/tf/Variable)). These are captured as implicit inputs to the callable returned by `function`. For example:"
   ]
  },
  {
   "cell_type": "code",
   "execution_count": 58,
   "id": "5ddcb6d4",
   "metadata": {},
   "outputs": [
    {
     "name": "stdout",
     "output_type": "stream",
     "text": [
      "0\n",
      "2.0\n",
      "1\n",
      "3.0\n"
     ]
    }
   ],
   "source": [
    "with tf.compat.v1.Session() as sess1:\n",
    "    c = tf.Variable(0)\n",
    "    sess1.run(c.initializer)\n",
    "    \n",
    "    @tf.function\n",
    "    def f1(x):\n",
    "      c.assign_add(1)\n",
    "      return x + tf.compat.v1.to_float(c)\n",
    "\n",
    "    print(c.eval())\n",
    "    print(f1(1).eval())\n",
    "    print(c.eval())\n",
    "    print(f1(1).eval())"
   ]
  },
  {
   "cell_type": "code",
   "execution_count": null,
   "id": "bcb8fb0b",
   "metadata": {},
   "outputs": [],
   "source": []
  }
 ],
 "metadata": {
  "kernelspec": {
   "display_name": "Python 3",
   "language": "python",
   "name": "python3"
  },
  "language_info": {
   "codemirror_mode": {
    "name": "ipython",
    "version": 3
   },
   "file_extension": ".py",
   "mimetype": "text/x-python",
   "name": "python",
   "nbconvert_exporter": "python",
   "pygments_lexer": "ipython3",
   "version": "3.8.8"
  }
 },
 "nbformat": 4,
 "nbformat_minor": 5
}
