{
 "cells": [
  {
   "cell_type": "code",
   "execution_count": 14,
   "id": "afcb8f44",
   "metadata": {},
   "outputs": [],
   "source": [
    "import tensorflow.compat.v1 as tf\n",
    "tf.disable_eager_execution()"
   ]
  },
  {
   "cell_type": "code",
   "execution_count": 17,
   "id": "95499be2",
   "metadata": {},
   "outputs": [
    {
     "ename": "TypeError",
     "evalue": "tensordot() missing 1 required positional argument: 'axes'",
     "output_type": "error",
     "traceback": [
      "\u001b[0;31m---------------------------------------------------------------------------\u001b[0m",
      "\u001b[0;31mTypeError\u001b[0m                                 Traceback (most recent call last)",
      "\u001b[0;32m<ipython-input-17-9d5b4f71cd54>\u001b[0m in \u001b[0;36m<module>\u001b[0;34m\u001b[0m\n\u001b[1;32m      3\u001b[0m d = tf.constant([[1.0, 1.0],\n\u001b[1;32m      4\u001b[0m                  [0.0, 1.0]])\n\u001b[0;32m----> 5\u001b[0;31m \u001b[0me\u001b[0m \u001b[0;34m=\u001b[0m \u001b[0mtf\u001b[0m\u001b[0;34m.\u001b[0m\u001b[0mtensordot\u001b[0m\u001b[0;34m(\u001b[0m\u001b[0mc\u001b[0m\u001b[0;34m,\u001b[0m \u001b[0md\u001b[0m\u001b[0;34m)\u001b[0m\u001b[0;34m\u001b[0m\u001b[0;34m\u001b[0m\u001b[0m\n\u001b[0m\u001b[1;32m      6\u001b[0m \u001b[0mresult\u001b[0m \u001b[0;34m=\u001b[0m \u001b[0msess\u001b[0m\u001b[0;34m.\u001b[0m\u001b[0mrun\u001b[0m\u001b[0;34m(\u001b[0m\u001b[0me\u001b[0m\u001b[0;34m)\u001b[0m\u001b[0;34m\u001b[0m\u001b[0;34m\u001b[0m\u001b[0m\n\u001b[1;32m      7\u001b[0m \u001b[0mresult\u001b[0m\u001b[0;34m\u001b[0m\u001b[0;34m\u001b[0m\u001b[0m\n",
      "\u001b[0;32m~/anaconda3/envs/tf/lib/python3.7/site-packages/tensorflow/python/util/dispatch.py\u001b[0m in \u001b[0;36mwrapper\u001b[0;34m(*args, **kwargs)\u001b[0m\n\u001b[1;32m    199\u001b[0m     \u001b[0;34m\"\"\"Call target, and fall back on dispatchers if there is a TypeError.\"\"\"\u001b[0m\u001b[0;34m\u001b[0m\u001b[0;34m\u001b[0m\u001b[0m\n\u001b[1;32m    200\u001b[0m     \u001b[0;32mtry\u001b[0m\u001b[0;34m:\u001b[0m\u001b[0;34m\u001b[0m\u001b[0;34m\u001b[0m\u001b[0m\n\u001b[0;32m--> 201\u001b[0;31m       \u001b[0;32mreturn\u001b[0m \u001b[0mtarget\u001b[0m\u001b[0;34m(\u001b[0m\u001b[0;34m*\u001b[0m\u001b[0margs\u001b[0m\u001b[0;34m,\u001b[0m \u001b[0;34m**\u001b[0m\u001b[0mkwargs\u001b[0m\u001b[0;34m)\u001b[0m\u001b[0;34m\u001b[0m\u001b[0;34m\u001b[0m\u001b[0m\n\u001b[0m\u001b[1;32m    202\u001b[0m     \u001b[0;32mexcept\u001b[0m \u001b[0;34m(\u001b[0m\u001b[0mTypeError\u001b[0m\u001b[0;34m,\u001b[0m \u001b[0mValueError\u001b[0m\u001b[0;34m)\u001b[0m\u001b[0;34m:\u001b[0m\u001b[0;34m\u001b[0m\u001b[0;34m\u001b[0m\u001b[0m\n\u001b[1;32m    203\u001b[0m       \u001b[0;31m# Note: convert_to_eager_tensor currently raises a ValueError, not a\u001b[0m\u001b[0;34m\u001b[0m\u001b[0;34m\u001b[0m\u001b[0;34m\u001b[0m\u001b[0m\n",
      "\u001b[0;31mTypeError\u001b[0m: tensordot() missing 1 required positional argument: 'axes'"
     ]
    }
   ],
   "source": []
  },
  {
   "cell_type": "code",
   "execution_count": 2,
   "id": "395e6bbf",
   "metadata": {},
   "outputs": [],
   "source": [
    "# Build a dataflow graph.\n",
    "c = tf.constant([[1.0, 2.0], \n",
    "                 [3.0, 4.0]])\n",
    "d = tf.constant([[1.0, 1.0],\n",
    "                 [0.0, 1.0]])\n",
    "e = tf.matmul(c, d)\n",
    "\n",
    "# Construct a `Session` to execute the graph.\n",
    "sess = tf.Session()"
   ]
  },
  {
   "cell_type": "code",
   "execution_count": 3,
   "id": "39724da6",
   "metadata": {},
   "outputs": [],
   "source": [
    "# Execute the graph and store the value that `e` represents in `result`.\n",
    "result = sess.run(e)"
   ]
  },
  {
   "cell_type": "code",
   "execution_count": 4,
   "id": "e8a3e0a9",
   "metadata": {},
   "outputs": [
    {
     "name": "stdout",
     "output_type": "stream",
     "text": [
      "[[1. 3.]\n",
      " [3. 7.]]\n"
     ]
    }
   ],
   "source": [
    "print(result)"
   ]
  },
  {
   "cell_type": "code",
   "execution_count": 5,
   "id": "9f276961",
   "metadata": {},
   "outputs": [
    {
     "name": "stdout",
     "output_type": "stream",
     "text": [
      "(array([1, 0, 0, ..., 0, 0, 2], dtype=int32), array([[   0],\n",
      "       [2314],\n",
      "       [4114],\n",
      "       [4626]]))\n"
     ]
    }
   ],
   "source": [
    "c = tf.constant([0x0000, 0x1212, 0x1012, 0x090a, 0x1212])\n",
    "# hist = sess.run(tf.bincount(c))\n",
    "hist = tf.bincount(c)\n",
    "nonzero_indices = tf.where(tf.not_equal(hist, 0))\n",
    "print(sess.run((hist, nonzero_indices)))"
   ]
  },
  {
   "cell_type": "code",
   "execution_count": 6,
   "id": "a60f6c08",
   "metadata": {},
   "outputs": [
    {
     "name": "stdout",
     "output_type": "stream",
     "text": [
      "hist: [2 0 2], indices: [[0]\n",
      " [2]], values: [[2]\n",
      " [2]], values2: [2 2]\n"
     ]
    }
   ],
   "source": [
    "# 2 dim\n",
    "c = tf.constant([[0x0000, 0x0000], [0x0002, 0x0002]])\n",
    "# 1 dim\n",
    "hist = tf.bincount(c)\n",
    "# 2 dim (tf.where() returns a Tensor of shape (num_true, rank(condition)), so (2, 1) where '1' holds the index)\n",
    "nonzero_indices = tf.where(tf.not_equal(hist, 0))\n",
    "# 2 dim \n",
    "nonzero_values = tf.gather(hist, nonzero_indices)\n",
    "# 1 dim\n",
    "nonzero_values_squeezed = tf.squeeze(nonzero_values)\n",
    "\n",
    "h, indices, values, values2 = sess.run((hist, nonzero_indices, nonzero_values, nonzero_values_squeezed))\n",
    "print(f'hist: {h}, indices: {indices}, values: {values}, values2: {values2}')"
   ]
  },
  {
   "cell_type": "code",
   "execution_count": 7,
   "id": "2190617d",
   "metadata": {},
   "outputs": [
    {
     "name": "stdout",
     "output_type": "stream",
     "text": [
      "WARNING:tensorflow:From /home/ynjn/anaconda3/envs/tf/lib/python3.7/site-packages/tensorflow/python/util/dispatch.py:201: sparse_to_dense (from tensorflow.python.ops.sparse_ops) is deprecated and will be removed in a future version.\n",
      "Instructions for updating:\n",
      "Create a `tf.sparse.SparseTensor` and use `tf.sparse.to_dense` instead.\n",
      "hist: [2 0 2], indices: [[0]\n",
      " [2]], values: [2 2], values2: [[2]\n",
      " [2]], conf_matrix: [2 0 2 0]\n"
     ]
    }
   ],
   "source": [
    "# 2 dim\n",
    "c = tf.constant([[0x0000, 0x0000], [0x0002, 0x0002]])\n",
    "# 1 dim\n",
    "hist = tf.bincount(c)\n",
    "# 2 dim (tf.where() returns a Tensor of shape (num_true, rank(condition)), so (2, 1) where '1' holds the index)\n",
    "nonzero_indices = tf.where(tf.not_equal(hist, 0))\n",
    "# 2 dim \n",
    "nonzero_values_2d = tf.gather(hist, nonzero_indices)\n",
    "# 1 dim\n",
    "nonzero_values_1d = tf.squeeze(nonzero_values)\n",
    "# sparse_indices: 0-D, 1-D, or 2-D Tensor of type int32 or int64.\n",
    "#      sparse_indices[i] contains the complete index where sparse_values[i] will be placed.\n",
    "# output_shape: A 1-D Tensor of the same type as sparse_indices.\n",
    "# sparse_values: A 0-D or 1-D Tensor.\n",
    "#      Values corresponding to each row of sparse_indices, or a scalar value to be used for all sparse indices.\n",
    "conf_matrix = tf.sparse_to_dense(nonzero_indices,\n",
    "                                 (4,),\n",
    "                                 nonzero_values_1d,\n",
    "                                 0)\n",
    "h, indices, values, values2, conf = sess.run(\n",
    "    (hist, nonzero_indices, nonzero_values_1d, nonzero_values_2d, conf_matrix))\n",
    "print(f'hist: {h}, indices: {indices}, values: {values}, values2: {values2}, conf_matrix: {conf}')"
   ]
  },
  {
   "cell_type": "code",
   "execution_count": 8,
   "id": "090ad076",
   "metadata": {},
   "outputs": [],
   "source": [
    "def my_sparse_to_dense(arr, output_shape):\n",
    "    # 1 dim\n",
    "    hist = tf.bincount(arr)\n",
    "    # 2 dim (tf.where() returns a Tensor of shape (num_true, rank(condition)), so (2, 1) where '1' holds the index)\n",
    "    nonzero_indices = tf.where(tf.not_equal(hist, 0))\n",
    "    # 2 dim \n",
    "    nonzero_values = tf.gather(hist, nonzero_indices)\n",
    "    # 1 dim\n",
    "    nonzero_values_1d = tf.squeeze(nonzero_values)\n",
    "    # 1 dim\n",
    "    conf_matrix = tf.sparse_to_dense(nonzero_indices,\n",
    "                                     output_shape,\n",
    "                                     nonzero_values_1d,\n",
    "                                     0)\n",
    "\n",
    "    sess = tf.Session()\n",
    "    result = sess.run(conf_matrix)\n",
    "    return result"
   ]
  },
  {
   "cell_type": "code",
   "execution_count": 9,
   "id": "44cc96f6",
   "metadata": {},
   "outputs": [
    {
     "name": "stdout",
     "output_type": "stream",
     "text": [
      "[2 0 2 ... 0 0 1]\n"
     ]
    }
   ],
   "source": [
    "# output shape must have a dimension of 1 x max\n",
    "one_d_arr = tf.constant([0x0000, 0x0000, 0x0002, 0x0002, 0x1212])\n",
    "print(my_sparse_to_dense(one_d_arr, (1*16*16*16 + 2*16*16 + 1*16 + 2 + 1,)))"
   ]
  },
  {
   "cell_type": "code",
   "execution_count": 10,
   "id": "837fae05",
   "metadata": {},
   "outputs": [
    {
     "name": "stdout",
     "output_type": "stream",
     "text": [
      "[1 0 2 1]\n"
     ]
    }
   ],
   "source": [
    "two_d_arr = tf.constant([[0x0000, 0x0003], [0x0002, 0x0002]])\n",
    "print(my_sparse_to_dense(two_d_arr, (4,)))"
   ]
  },
  {
   "cell_type": "code",
   "execution_count": 11,
   "id": "78c65d84",
   "metadata": {},
   "outputs": [
    {
     "data": {
      "text/plain": [
       "array([0, 0, 1, ..., 0, 0, 0], dtype=int32)"
      ]
     },
     "execution_count": 11,
     "metadata": {},
     "output_type": "execute_result"
    }
   ],
   "source": [
    "# if one dimension array of the max value Ox1212 (19 values cross ref), \n",
    "# the output shape of the dense array needs to be 1d array of len 65536 (=256x256)\n",
    "two_d_arr = tf.constant([[0x0102, 0x0201], [0x0002, 0x1212]])\n",
    "one_d_dense = my_sparse_to_dense(two_d_arr, (0xFFFF + 1,))\n",
    "one_d_dense"
   ]
  },
  {
   "cell_type": "code",
   "execution_count": 12,
   "id": "d3bd8bdc",
   "metadata": {},
   "outputs": [
    {
     "data": {
      "text/plain": [
       "array([[0, 0, 1, ..., 0, 0, 0],\n",
       "       [0, 0, 1, ..., 0, 0, 0],\n",
       "       [0, 1, 0, ..., 0, 0, 0],\n",
       "       ...,\n",
       "       [0, 0, 0, ..., 0, 0, 0],\n",
       "       [0, 0, 0, ..., 0, 0, 0],\n",
       "       [0, 0, 0, ..., 0, 0, 0]], dtype=int32)"
      ]
     },
     "execution_count": 12,
     "metadata": {},
     "output_type": "execute_result"
    }
   ],
   "source": [
    "# then, one_d_dense array can be reshaped to 2d_dense array of (256, 256)\n",
    "two_d_dense = one_d_dense.reshape((0xFF + 1, 0xFF + 1))\n",
    "two_d_dense"
   ]
  },
  {
   "cell_type": "code",
   "execution_count": null,
   "id": "4a6322b5",
   "metadata": {},
   "outputs": [],
   "source": []
  }
 ],
 "metadata": {
  "kernelspec": {
   "display_name": "Python 3",
   "language": "python",
   "name": "python3"
  },
  "language_info": {
   "codemirror_mode": {
    "name": "ipython",
    "version": 3
   },
   "file_extension": ".py",
   "mimetype": "text/x-python",
   "name": "python",
   "nbconvert_exporter": "python",
   "pygments_lexer": "ipython3",
   "version": "3.7.10"
  }
 },
 "nbformat": 4,
 "nbformat_minor": 5
}
