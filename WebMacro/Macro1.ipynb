{
 "cells": [
  {
   "cell_type": "code",
   "execution_count": 11,
   "id": "70d5cf38",
   "metadata": {},
   "outputs": [],
   "source": [
    "from selenium.webdriver import Firefox\n",
    "from selenium.webdriver.firefox.options import Options\n",
    "from collections import namedtuple"
   ]
  },
  {
   "cell_type": "markdown",
   "id": "a66b68f9",
   "metadata": {},
   "source": [
    "# [Test Driving a Headless Browser](https://realpython.com/modern-web-automation-with-python-and-selenium/)"
   ]
  },
  {
   "cell_type": "code",
   "execution_count": 2,
   "id": "f6eaae03",
   "metadata": {},
   "outputs": [
    {
     "name": "stderr",
     "output_type": "stream",
     "text": [
      "/tmp/ipykernel_3950/2639734357.py:2: DeprecationWarning: use setter for headless property instead of set_headless\n",
      "  opts.set_headless()\n"
     ]
    }
   ],
   "source": [
    "opts = Options()\n",
    "opts.set_headless()\n",
    "assert opts.headless  # Operating in headless mode\n",
    "browser = Firefox(options=opts)\n",
    "browser.get('https://duckduckgo.com')"
   ]
  },
  {
   "cell_type": "code",
   "execution_count": 3,
   "id": "0368b21f",
   "metadata": {},
   "outputs": [],
   "source": [
    "search_form = browser.find_element_by_id('search_form_input_homepage')\n",
    "search_form.send_keys('real python')\n",
    "search_form.submit()"
   ]
  },
  {
   "cell_type": "code",
   "execution_count": 4,
   "id": "66856e99",
   "metadata": {},
   "outputs": [
    {
     "name": "stdout",
     "output_type": "stream",
     "text": [
      "Python Tutorials - Real Python\n",
      "https://realpython.com\n",
      "Real Python Tutorials. Representing Rational Numbers With Python Fractions. In this tutorial, you'll learn about the Fraction data type in Python, which can represent rational numbers precisely without the rounding errors in binary arithmetic. You'll find that this is especially important in financial and other high-precision applications.\n"
     ]
    }
   ],
   "source": [
    "results = browser.find_elements_by_class_name('result')\n",
    "print(results[0].text)"
   ]
  },
  {
   "cell_type": "code",
   "execution_count": 5,
   "id": "e7c103f5",
   "metadata": {},
   "outputs": [],
   "source": [
    "browser.close()"
   ]
  },
  {
   "cell_type": "markdown",
   "id": "f2455325",
   "metadata": {},
   "source": [
    "# [Groovin' on Tunes](https://realpython.com/modern-web-automation-with-python-and-selenium/#groovin-on-tunes)"
   ]
  },
  {
   "cell_type": "code",
   "execution_count": 6,
   "id": "6a2f015a",
   "metadata": {},
   "outputs": [
    {
     "name": "stderr",
     "output_type": "stream",
     "text": [
      "/tmp/ipykernel_3950/2003952430.py:2: DeprecationWarning: use setter for headless property instead of set_headless\n",
      "  opts.set_headless()\n"
     ]
    }
   ],
   "source": [
    "opts = Options()\n",
    "opts.set_headless()\n",
    "browser = Firefox(options=opts)\n",
    "browser.get('https://bandcamp.com')\n",
    "browser.find_element_by_class_name('playbutton').click()"
   ]
  },
  {
   "cell_type": "code",
   "execution_count": 7,
   "id": "9a86e5b2",
   "metadata": {},
   "outputs": [
    {
     "data": {
      "text/plain": [
       "8"
      ]
     },
     "execution_count": 7,
     "metadata": {},
     "output_type": "execute_result"
    }
   ],
   "source": [
    "tracks = browser.find_elements_by_class_name('discover-item')\n",
    "len(tracks)  #8"
   ]
  },
  {
   "cell_type": "code",
   "execution_count": 8,
   "id": "a03d210f",
   "metadata": {},
   "outputs": [],
   "source": [
    "tracks[3].click()"
   ]
  },
  {
   "cell_type": "markdown",
   "id": "e9466acf",
   "metadata": {},
   "source": [
    "# Exploring the Catalogue"
   ]
  },
  {
   "cell_type": "code",
   "execution_count": 13,
   "id": "30cc81cf",
   "metadata": {},
   "outputs": [],
   "source": [
    "next_button = [e for e in browser.find_elements_by_class_name('item-page')\n",
    "                   if e.text.lower().find('next') > -1]"
   ]
  },
  {
   "cell_type": "code",
   "execution_count": 14,
   "id": "4bd8fba7",
   "metadata": {},
   "outputs": [
    {
     "data": {
      "text/plain": [
       "[<selenium.webdriver.firefox.webelement.FirefoxWebElement (session=\"6c8805f3-e957-4406-89c7-69ac53788f92\", element=\"5d5da66b-f516-4f77-a2e6-1d0665659e59\")>]"
      ]
     },
     "execution_count": 14,
     "metadata": {},
     "output_type": "execute_result"
    }
   ],
   "source": [
    "next_button"
   ]
  },
  {
   "cell_type": "code",
   "execution_count": 16,
   "id": "a8ef8b22",
   "metadata": {},
   "outputs": [],
   "source": [
    "next_button[0].click()"
   ]
  },
  {
   "cell_type": "code",
   "execution_count": 17,
   "id": "765aa245",
   "metadata": {},
   "outputs": [
    {
     "data": {
      "text/plain": [
       "16"
      ]
     },
     "execution_count": 17,
     "metadata": {},
     "output_type": "execute_result"
    }
   ],
   "source": [
    "tracks = browser.find_elements_by_class_name('discover-item')\n",
    "len(tracks) # "
   ]
  },
  {
   "cell_type": "markdown",
   "id": "29875bd7",
   "metadata": {},
   "source": [
    "You find that your list contains some tracks that were displayed before. To get only the tracks that are actually visible in the browser, you need to filter the results a little."
   ]
  },
  {
   "cell_type": "code",
   "execution_count": 23,
   "id": "da0216d7",
   "metadata": {},
   "outputs": [
    {
     "data": {
      "text/plain": [
       "8"
      ]
     },
     "execution_count": 23,
     "metadata": {},
     "output_type": "execute_result"
    }
   ],
   "source": [
    "discover_section = browser.find_element_by_class_name('discover-results')\n",
    "left_x = discover_section.location['x']\n",
    "right_x = left_x + discover_section.size['width']\n",
    "discover_items = browser.find_elements_by_class_name('discover-item')\n",
    "tracks = [t for t in discover_items\n",
    "              if t.location['x'] >= left_x and t.location['x'] < right_x]\n",
    "len(tracks)"
   ]
  },
  {
   "cell_type": "markdown",
   "id": "4af2ffe7",
   "metadata": {},
   "source": [
    "# Building a Class"
   ]
  },
  {
   "cell_type": "code",
   "execution_count": 12,
   "id": "af93a168",
   "metadata": {},
   "outputs": [],
   "source": [
    "TrackRec = namedtuple('TrackRec', [\n",
    "    'title', \n",
    "    'artist',\n",
    "    'artist_url', \n",
    "    'album',\n",
    "    'album_url', \n",
    "    'timestamp'  # When you played it\n",
    "])"
   ]
  },
  {
   "cell_type": "code",
   "execution_count": 13,
   "id": "73570607",
   "metadata": {},
   "outputs": [],
   "source": [
    "from selenium.webdriver import Firefox\n",
    "from selenium.webdriver.firefox.options import Options\n",
    "from time import sleep, ctime\n",
    "from collections import namedtuple\n",
    "from threading import Thread\n",
    "from os.path import isfile\n",
    "import csv\n",
    "\n",
    "\n",
    "BANDCAMP_FRONTPAGE='https://bandcamp.com/'\n",
    "\n",
    "class BandLeader():\n",
    "    def __init__(self, csvpath=None):\n",
    "        self.database_path = csvpath\n",
    "        self.database = []\n",
    "        \n",
    "        # Load database from disk if possible\n",
    "        if isfile(self.database_path):\n",
    "            with open(self.database_path, newline='') as dbfile:\n",
    "                dbreader = csv.reader(dbfile)\n",
    "                next(dbreader)   # To ignore the header line\n",
    "                self.database = [TrackRec._make(rec) for rec in dbreader]\n",
    "                \n",
    "        # Create a headless browser\n",
    "        opts = Options()\n",
    "        opts.set_headless()     \n",
    "        self.browser = Firefox(options=opts)\n",
    "        self.browser.get(BANDCAMP_FRONTPAGE)\n",
    "\n",
    "        # Track list related state\n",
    "        self._current_track_number = 1\n",
    "        self.track_list = []\n",
    "        \n",
    "        # State for the database\n",
    "        self._current_track_record = None\n",
    "        \n",
    "        # The database maintenance thread\n",
    "        self.thread = Thread(target=self._maintain)\n",
    "        self.thread.daemon = True    # kill the thread with the main process dies\n",
    "        self.thread.start()\n",
    "        \n",
    "        self.tracks()\n",
    "    \n",
    "    def _maintain(self):\n",
    "        while True:\n",
    "            self._update_db()\n",
    "            sleep(20)    # Check every 20 seconds\n",
    "\n",
    "\n",
    "    def save_db(self):\n",
    "        with open(self.database_path, 'w', newline='') as dbfile:\n",
    "            dbwriter = csv.writer(dbfile)\n",
    "            dbwriter.writerow(list(TrackRec._fields))\n",
    "            for entry in self.database:\n",
    "                dbwriter.writerow(list(entry))\n",
    "    \n",
    "\n",
    "    def _update_db(self):\n",
    "        try:\n",
    "            check = (self._current_track_record is not None\n",
    "                     and (len(self.database) == 0 or self.database[-1] != self._current_track_record)\n",
    "                     and self.is_playing())\n",
    "            if check:\n",
    "                self.database.append(self._current_track_record)\n",
    "                self.save_db()\n",
    "        \n",
    "        except Exception as e:\n",
    "            print('error while updating the db: {}'.format(e))\n",
    "\n",
    "    def tracks(self):\n",
    "        '''\n",
    "        Query the page to populate a list of available tracks.\n",
    "        '''\n",
    "        # Sleep to give the browser time to render and finish any animations\n",
    "        sleep(1)\n",
    "\n",
    "        # Get the container for the visible track list\n",
    "        discover_section = self.browser.find_element_by_class_name('discover-results')\n",
    "        left_x = discover_section.location['x']\n",
    "        right_x = left_x + discover_section.size['width']\n",
    "\n",
    "        # Filter the items in the list to include only those we can click\n",
    "        discover_items = self.browser.find_elements_by_class_name('discover-item')\n",
    "        self.track_list = [t for t in discover_items\n",
    "                           if t.location['x'] >= left_x and t.location['x'] < right_x]\n",
    "\n",
    "        # Print the available tracks to the screen\n",
    "        for (i,track) in enumerate(self.track_list):\n",
    "            print('[{}]'.format(i+1))\n",
    "            lines = track.text.split('\\n')\n",
    "            print('Album  : {}'.format(lines[0]))\n",
    "            print('Artist : {}'.format(lines[1]))\n",
    "            if len(lines) > 2:\n",
    "                print('Genre  : {}'.format(lines[2]))\n",
    "\n",
    "    def catalogue_pages(self):\n",
    "        '''\n",
    "        Print the available pages in the catalogue that are presently accessible.\n",
    "        '''\n",
    "        print('PAGES')\n",
    "        for e in self.browser.find_elements_by_class_name('item-page'):\n",
    "            print(e.text)\n",
    "        print('')\n",
    "\n",
    "\n",
    "    def more_tracks(self, page='next'):\n",
    "        '''\n",
    "        Advances the catalogue and repopulates the track list. We can pass in a number\n",
    "        to advance any of the available pages.\n",
    "        '''\n",
    "        next_btn = [e for e in self.browser.find_elements_by_class_name('item-page')\n",
    "                    if e.text.lower().strip() == str(page)]\n",
    "\n",
    "        if next_btn:\n",
    "            next_btn[0].click()\n",
    "            self.tracks()\n",
    "\n",
    "    def play(self,track=None):\n",
    "        '''\n",
    "        Play a track. If no track number is supplied, the presently selected track will play.\n",
    "        '''\n",
    "        if track is None:\n",
    "            self.browser.find_element_by_class_name('playbutton').click()\n",
    "        elif type(track) is int and track <= len(self.track_list) and track >= 1:\n",
    "            self._current_track_number = track\n",
    "            self.track_list[self._current_track_number - 1].click()\n",
    "        \n",
    "        sleep(0.5)\n",
    "        if self.is_playing():\n",
    "            self._current_track_record = self.currently_playing()\n",
    "\n",
    "\n",
    "    def play_next(self):\n",
    "        '''\n",
    "        Plays the next available track\n",
    "        '''\n",
    "        if self._current_track_number < len(self.track_list):\n",
    "            self.play(self._current_track_number+1)\n",
    "        else:\n",
    "            self.more_tracks()\n",
    "            self.play(1)\n",
    "\n",
    "\n",
    "    def pause(self):\n",
    "        '''\n",
    "        Pauses the playback\n",
    "        '''\n",
    "        self.play()\n",
    "    \n",
    "\n",
    "    def is_playing(self):\n",
    "        '''\n",
    "        Returns `True` if a track is presently playing\n",
    "        '''\n",
    "        playbtn = self.browser.find_element_by_class_name('playbutton')\n",
    "        return playbtn.get_attribute('class').find('playing') > -1\n",
    "\n",
    "\n",
    "    def currently_playing(self):\n",
    "        '''\n",
    "        Returns the record for the currently playing track,\n",
    "        or None if nothing is playing\n",
    "        '''\n",
    "        try:\n",
    "            if self.is_playing():\n",
    "                title = self.browser.find_element_by_class_name('title').text\n",
    "                album_detail = self.browser.find_element_by_css_selector('.detail-album > a')\n",
    "                album_title = album_detail.text\n",
    "                album_url = album_detail.get_attribute('href').split('?')[0]\n",
    "                artist_detail = self.browser.find_element_by_css_selector('.detail-artist > a')\n",
    "                artist = artist_detail.text\n",
    "                artist_url = artist_detail.get_attribute('href').split('?')[0]\n",
    "                return TrackRec(title, artist, artist_url, album_title, album_url, ctime())\n",
    "\n",
    "        except Exception as e:\n",
    "            print('there was an error: {}'.format(e))\n",
    "\n",
    "        return None"
   ]
  },
  {
   "cell_type": "code",
   "execution_count": null,
   "id": "7e2312ea",
   "metadata": {},
   "outputs": [],
   "source": []
  }
 ],
 "metadata": {
  "kernelspec": {
   "display_name": "Python 3 (ipykernel)",
   "language": "python",
   "name": "python3"
  },
  "language_info": {
   "codemirror_mode": {
    "name": "ipython",
    "version": 3
   },
   "file_extension": ".py",
   "mimetype": "text/x-python",
   "name": "python",
   "nbconvert_exporter": "python",
   "pygments_lexer": "ipython3",
   "version": "3.8.11"
  }
 },
 "nbformat": 4,
 "nbformat_minor": 5
}
